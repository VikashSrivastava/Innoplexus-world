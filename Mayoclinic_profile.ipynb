{
 "cells": [
  {
   "cell_type": "code",
   "execution_count": 25,
   "metadata": {
    "collapsed": false
   },
   "outputs": [
    {
     "name": "stdout",
     "output_type": "stream",
     "text": [
      "\n",
      "Doctors and Medical StaffNeena S. Abraham, M.D.\n",
      "Print\n",
      "\n",
      "\n",
      "\n",
      "\n",
      "LocationArizona\n",
      "DepartmentsGastroenterology and Hepatology\n",
      "\n",
      "\n",
      "\n",
      "EducationMS - Epidemiology and Biostatistics McGill UniversityFellow - Therapeutic Endoscopy - Gastroenterology McGill University Health CentrePost Doctoral Fellowship - Canadian Association of Gastroenterology-Canadian Institute of Health Research Endoscopic Research Fellowship McGill University Health CentreChief Fellow - Gastroenterology McGill University Health CentreFellow - Gastroenterology McGill University Health CentreResident - Internal Medicine University of Alberta HospitalMD Dalhousie UniversityBA Mount Allison University\n",
      "CertificationsRoyal College of Physicians and Surgeons of CanadaGastroenterology\n",
      "Academic rankProfessor of Medicine\n",
      "Professional Highlights\n",
      "Associate Editor, Clinical Gastroenterology and Hepatology, 2012-2014\n",
      "Member, Board of Trustees, American College of Gastroenterology, 2009-2015\n",
      "\n",
      "Interests\n",
      "Cardiogastroenterology\n",
      "Gastrointestinal bleeding\n",
      "Shared decision-making and communication support\n",
      "Peri-endoscopic antiplatelet and anticoagulant management\n",
      "Anemia\n",
      "\n",
      "PublicationsSee my publications\n",
      "\n",
      "None\n"
     ]
    }
   ],
   "source": [
    "import requests\n",
    "from bs4 import BeautifulSoup\n",
    "import urllib2\n",
    "import pymongo\n",
    "\n",
    "from pymongo import MongoClient\n",
    "\n",
    "client = MongoClient('localhost')\n",
    "db = client.crawl_db\n",
    "\n",
    "url = 'http://www.mayoclinic.org/biographies/abraham-neena-s-m-d/bio-20055678'\n",
    "resp = requests.get(url)\n",
    "soup = BeautifulSoup(resp.content,'lxml')\n",
    "soup.prettify()\n",
    "desc=soup.find_all('div',{'class':'page-header'})\n",
    "for item in desc:\n",
    "    print item.text\n",
    "data= soup.find_all('div',{'class':'person'})\n",
    "for item in data:\n",
    "    print item.text\n",
    "data1= soup.find_all('div',{'class':'person-two'})\n",
    "for item in data1:\n",
    "    print item.text\n",
    "    db.collection2.insert_one({\"profile\":item.get_text()})\n",
    "    "
   ]
  }
 ],
 "metadata": {
  "kernelspec": {
   "display_name": "Python 2",
   "language": "python",
   "name": "python2"
  },
  "language_info": {
   "codemirror_mode": {
    "name": "ipython",
    "version": 2
   },
   "file_extension": ".py",
   "mimetype": "text/x-python",
   "name": "python",
   "nbconvert_exporter": "python",
   "pygments_lexer": "ipython2",
   "version": "2.7.11"
  }
 },
 "nbformat": 4,
 "nbformat_minor": 0
}
